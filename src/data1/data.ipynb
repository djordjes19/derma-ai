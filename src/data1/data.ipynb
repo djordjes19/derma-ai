{
 "cells": [
  {
   "cell_type": "code",
   "execution_count": 29,
   "id": "initial_id",
   "metadata": {
    "collapsed": true,
    "ExecuteTime": {
     "end_time": "2025-04-15T17:47:58.312076Z",
     "start_time": "2025-04-15T17:47:58.306822Z"
    }
   },
   "outputs": [],
   "source": [
    "import os\n",
    "import numpy as np\n",
    "import matplotlib.pyplot as plt\n",
    "import pandas as pd\n",
    "import seaborn as sns\n",
    "from matplotlib.image import imread\n",
    "\n"
   ]
  },
  {
   "cell_type": "code",
   "outputs": [
    {
     "data": {
      "text/plain": "'ISIC_0015719.jpg'"
     },
     "execution_count": 28,
     "metadata": {},
     "output_type": "execute_result"
    }
   ],
   "source": [
    "#Ucitavanje dataset-a\n",
    "data_dir = '../../../data'\n",
    "os.listdir(data_dir)[0]"
   ],
   "metadata": {
    "collapsed": false,
    "ExecuteTime": {
     "end_time": "2025-04-15T17:44:50.492942Z",
     "start_time": "2025-04-15T17:44:50.441355Z"
    }
   },
   "id": "c75d7eeda5186058",
   "execution_count": 28
  },
  {
   "cell_type": "code",
   "outputs": [],
   "source": [
    "csv_path = '../../../ISIC_2020_Training_GroundTruth.csv'\n",
    "df = pd.read_csv(csv_path)"
   ],
   "metadata": {
    "collapsed": false,
    "ExecuteTime": {
     "end_time": "2025-04-15T16:29:12.191858Z",
     "start_time": "2025-04-15T16:29:12.131200Z"
    }
   },
   "id": "c26935177e59d9d3",
   "execution_count": 11
  },
  {
   "cell_type": "code",
   "outputs": [
    {
     "data": {
      "text/plain": "     image_name  patient_id     sex  age_approx anatom_site_general_challenge  \\\n0  ISIC_2637011  IP_7279968    male        45.0                     head/neck   \n1  ISIC_0015719  IP_3075186  female        45.0               upper extremity   \n2  ISIC_0052212  IP_2842074  female        50.0               lower extremity   \n3  ISIC_0068279  IP_6890425  female        45.0                     head/neck   \n4  ISIC_0074268  IP_8723313  female        55.0               upper extremity   \n\n  diagnosis benign_malignant  target  \n0   unknown           benign       0  \n1   unknown           benign       0  \n2     nevus           benign       0  \n3   unknown           benign       0  \n4   unknown           benign       0  ",
      "text/html": "<div>\n<style scoped>\n    .dataframe tbody tr th:only-of-type {\n        vertical-align: middle;\n    }\n\n    .dataframe tbody tr th {\n        vertical-align: top;\n    }\n\n    .dataframe thead th {\n        text-align: right;\n    }\n</style>\n<table border=\"1\" class=\"dataframe\">\n  <thead>\n    <tr style=\"text-align: right;\">\n      <th></th>\n      <th>image_name</th>\n      <th>patient_id</th>\n      <th>sex</th>\n      <th>age_approx</th>\n      <th>anatom_site_general_challenge</th>\n      <th>diagnosis</th>\n      <th>benign_malignant</th>\n      <th>target</th>\n    </tr>\n  </thead>\n  <tbody>\n    <tr>\n      <th>0</th>\n      <td>ISIC_2637011</td>\n      <td>IP_7279968</td>\n      <td>male</td>\n      <td>45.0</td>\n      <td>head/neck</td>\n      <td>unknown</td>\n      <td>benign</td>\n      <td>0</td>\n    </tr>\n    <tr>\n      <th>1</th>\n      <td>ISIC_0015719</td>\n      <td>IP_3075186</td>\n      <td>female</td>\n      <td>45.0</td>\n      <td>upper extremity</td>\n      <td>unknown</td>\n      <td>benign</td>\n      <td>0</td>\n    </tr>\n    <tr>\n      <th>2</th>\n      <td>ISIC_0052212</td>\n      <td>IP_2842074</td>\n      <td>female</td>\n      <td>50.0</td>\n      <td>lower extremity</td>\n      <td>nevus</td>\n      <td>benign</td>\n      <td>0</td>\n    </tr>\n    <tr>\n      <th>3</th>\n      <td>ISIC_0068279</td>\n      <td>IP_6890425</td>\n      <td>female</td>\n      <td>45.0</td>\n      <td>head/neck</td>\n      <td>unknown</td>\n      <td>benign</td>\n      <td>0</td>\n    </tr>\n    <tr>\n      <th>4</th>\n      <td>ISIC_0074268</td>\n      <td>IP_8723313</td>\n      <td>female</td>\n      <td>55.0</td>\n      <td>upper extremity</td>\n      <td>unknown</td>\n      <td>benign</td>\n      <td>0</td>\n    </tr>\n  </tbody>\n</table>\n</div>"
     },
     "execution_count": 15,
     "metadata": {},
     "output_type": "execute_result"
    }
   ],
   "source": [
    "df.head()"
   ],
   "metadata": {
    "collapsed": false,
    "ExecuteTime": {
     "end_time": "2025-04-15T16:34:52.659550Z",
     "start_time": "2025-04-15T16:34:52.645278Z"
    }
   },
   "id": "2646f3611bda2495",
   "execution_count": 15
  },
  {
   "cell_type": "code",
   "outputs": [
    {
     "name": "stdout",
     "output_type": "stream",
     "text": [
      "image_name                         0\n",
      "patient_id                         0\n",
      "sex                               65\n",
      "age_approx                        68\n",
      "anatom_site_general_challenge    527\n",
      "diagnosis                          0\n",
      "benign_malignant                   0\n",
      "target                             0\n",
      "dtype: int64\n"
     ]
    }
   ],
   "source": [
    "print(df.isnull().sum())\n",
    "missing_rows = df[df.isnull().any(axis=1)]"
   ],
   "metadata": {
    "collapsed": false,
    "ExecuteTime": {
     "end_time": "2025-04-15T16:52:46.639765Z",
     "start_time": "2025-04-15T16:52:46.611434Z"
    }
   },
   "id": "23c12eaf82324b0",
   "execution_count": 19
  },
  {
   "cell_type": "code",
   "outputs": [],
   "source": [
    "#Lista sa nazivima slika koje treba obrisati \n",
    "images_to_remove = missing_rows['image_name'].tolist()\n",
    "df = df.dropna()"
   ],
   "metadata": {
    "collapsed": false,
    "ExecuteTime": {
     "end_time": "2025-04-15T16:52:48.073372Z",
     "start_time": "2025-04-15T16:52:48.055076Z"
    }
   },
   "id": "8d9c5f7ab15d67e8",
   "execution_count": 20
  },
  {
   "cell_type": "code",
   "outputs": [],
   "source": [
    "#Brisanje nepotrebnih slika (slike kojima fale podaci u csv-fajlu)\n",
    "for image_name in images_to_remove:\n",
    "    image_path = os.path.join(data_dir, f'{image_name}.jpg')\n",
    "    if os.path.exists(image_path):\n",
    "        os.remove(image_path)"
   ],
   "metadata": {
    "collapsed": false,
    "ExecuteTime": {
     "end_time": "2025-04-15T16:52:50.311672Z",
     "start_time": "2025-04-15T16:52:49.989595Z"
    }
   },
   "id": "e70d42b9dec62f56",
   "execution_count": 21
  },
  {
   "cell_type": "code",
   "outputs": [],
   "source": [
    "df.to_csv('../../../ocisceni_podaci.csv', index=False)"
   ],
   "metadata": {
    "collapsed": false,
    "ExecuteTime": {
     "end_time": "2025-04-15T16:52:53.323980Z",
     "start_time": "2025-04-15T16:52:53.161037Z"
    }
   },
   "id": "f65afc547ed1bfe9",
   "execution_count": 22
  },
  {
   "cell_type": "code",
   "outputs": [
    {
     "name": "stdout",
     "output_type": "stream",
     "text": [
      "Obrisano 595 redova i 595 slika.\n"
     ]
    }
   ],
   "source": [
    "print(f\"Obrisano {len(missing_rows)} redova i {len(images_to_remove)} slika.\")\n"
   ],
   "metadata": {
    "collapsed": false,
    "ExecuteTime": {
     "end_time": "2025-04-15T16:52:55.036324Z",
     "start_time": "2025-04-15T16:52:55.031998Z"
    }
   },
   "id": "6e01a6b77414ec73",
   "execution_count": 23
  },
  {
   "cell_type": "code",
   "outputs": [
    {
     "name": "stdout",
     "output_type": "stream",
     "text": [
      "32531\n"
     ]
    }
   ],
   "source": [
    "#broj slika u folderu data nakon ciscenja :\n",
    "if os.path.exists(data_dir):\n",
    "\tprint(len(os.listdir(data_dir)))\n",
    "else:\n",
    "\tprint(f\"Directory {data_dir} does not exist.\")"
   ],
   "metadata": {
    "collapsed": false,
    "ExecuteTime": {
     "end_time": "2025-04-15T16:53:00.771919Z",
     "start_time": "2025-04-15T16:53:00.682941Z"
    }
   },
   "id": "30b7100d68b59b3f",
   "execution_count": 24
  },
  {
   "cell_type": "code",
   "outputs": [],
   "source": [
    "#Shape slika\n",
    "dim1 = []\n",
    "dim2 = []\n",
    "\n",
    "for image_filename in os.listdir(data_dir):\n",
    "    img = imread(data_dir + '\\\\' + image_filename)   #Uzimamo jednu sliku iteriramo po fajlovima\n",
    "    d1,d2, colors = img.shape\n",
    "    dim1.append(d1)\n",
    "    dim2.append(d2)"
   ],
   "metadata": {
    "collapsed": false,
    "ExecuteTime": {
     "end_time": "2025-04-15T18:27:00.963592Z",
     "start_time": "2025-04-15T17:48:41.058547Z"
    }
   },
   "id": "e1389af3b64ed85",
   "execution_count": 31
  },
  {
   "cell_type": "code",
   "outputs": [
    {
     "name": "stdout",
     "output_type": "stream",
     "text": [
      "2666.504411177031 4023.899972334081\n"
     ]
    },
    {
     "data": {
      "text/plain": "<Axes: >"
     },
     "execution_count": 35,
     "metadata": {},
     "output_type": "execute_result"
    },
    {
     "data": {
      "text/plain": "<Figure size 640x480 with 1 Axes>",
      "image/png": "[encoded data removed]"
     },
     "metadata": {},
     "output_type": "display_data"
    }
   ],
   "source": [
    "dim1\n",
    "print(np.mean(dim1), np.mean(dim2))\n",
    "sns.scatterplot(y=dim1, x=dim2)"
   ],
   "metadata": {
    "collapsed": false,
    "ExecuteTime": {
     "end_time": "2025-04-15T18:48:19.630578Z",
     "start_time": "2025-04-15T18:48:19.120128Z"
    }
   },
   "id": "b492baecd5b66e74",
   "execution_count": 35
  },
  {
   "cell_type": "code",
   "outputs": [],
   "source": [],
   "metadata": {
    "collapsed": false
   },
   "id": "4227e9984f4d6514"
  }
 ],
 "metadata": {
  "kernelspec": {
   "display_name": "Python 3",
   "language": "python",
   "name": "python3"
  },
  "language_info": {
   "codemirror_mode": {
    "name": "ipython",
    "version": 2
   },
   "file_extension": ".py",
   "mimetype": "text/x-python",
   "name": "python",
   "nbconvert_exporter": "python",
   "pygments_lexer": "ipython2",
   "version": "2.7.6"
  }
 },
 "nbformat": 4,
 "nbformat_minor": 5
}
