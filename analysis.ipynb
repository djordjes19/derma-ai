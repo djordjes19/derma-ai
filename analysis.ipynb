{
 "cells": [
  {
   "cell_type": "code",
   "execution_count": null,
   "metadata": {},
   "outputs": [],
   "source": [
    "import os\n",
    "import numpy as np\n",
    "import pandas as pd\n",
    "import tensorflow as tf\n",
    "import matplotlib.pyplot as plt\n",
    "import seaborn as sns\n",
    "from PIL import Image\n",
    "import keras.utils as image\n",
    "from keras.utils import Sequence\n",
    "from keras.preprocessing.image import ImageDataGenerator"
   ]
  },
  {
   "cell_type": "markdown",
   "metadata": {},
   "source": [
    "\n",
    "1. Data Preprocessin"
   ]
  },
  {
   "cell_type": "code",
   "execution_count": null,
   "metadata": {},
   "outputs": [],
   "source": [
    "CSV_PATH = \"ground_truth.csv\"\n",
    "IMAGE_FOLDER = \"data/\""
   ]
  },
  {
   "cell_type": "code",
   "execution_count": null,
   "metadata": {},
   "outputs": [],
   "source": [
    "# Učitavanje CSV-a\n",
    "df = pd.read_csv(CSV_PATH)"
   ]
  },
  {
   "cell_type": "code",
   "execution_count": null,
   "metadata": {},
   "outputs": [],
   "source": [
    "print(\"Prvih nekoliko redova iz CSV-a:\")\n",
    "print(df.head())"
   ]
  },
  {
   "cell_type": "code",
   "execution_count": null,
   "metadata": {},
   "outputs": [],
   "source": [
    "print(\"Nedostajuće vrednosti u CSV-u:\")\n",
    "print(df.isnull().sum())"
   ]
  },
  {
   "cell_type": "code",
   "execution_count": null,
   "metadata": {},
   "outputs": [],
   "source": [
    "# Provera broja klasa (benign vs malignant)\n",
    "plt.figure(figsize=(6, 4))\n",
    "sns.countplot(data=df, x=\"benign_malignant\", hue=\"benign_malignant\", palette=\"pastel\")\n",
    "plt.title(\"Distribucija klasa (benign vs malignant)\")\n",
    "plt.show()"
   ]
  },
  {
   "cell_type": "code",
   "execution_count": null,
   "metadata": {},
   "outputs": [],
   "source": [
    "df['benign_malignant'].value_counts()"
   ]
  },
  {
   "cell_type": "code",
   "execution_count": null,
   "metadata": {},
   "outputs": [],
   "source": [
    "# Prikaz nekoliko primera slika\n",
    "def prikazi_slike(broj_slika=6):\n",
    "    sample = df.sample(broj_slika)  # Nasumično biramo slike\n",
    "    fig, axes = plt.subplots(1, broj_slika, figsize=(15, 5))\n",
    "\n",
    "    for i, (idx, row) in enumerate(sample.iterrows()):\n",
    "        img_path = os.path.join(IMAGE_FOLDER, row[\"image_name\"] + \".jpg\")\n",
    "        if os.path.exists(img_path):  # Proveravamo da li slika postoji\n",
    "            img = Image.open(img_path)\n",
    "            axes[i].imshow(img)\n",
    "            axes[i].set_title(f\"{row['benign_malignant']}\")\n",
    "            axes[i].axis(\"off\")\n",
    "        else:\n",
    "            axes[i].set_title(\"N/A\")\n",
    "            axes[i].axis(\"off\")\n",
    "\n",
    "    plt.show()"
   ]
  },
  {
   "cell_type": "markdown",
   "metadata": {},
   "source": [
    "Resultt"
   ]
  },
  {
   "cell_type": "code",
   "execution_count": null,
   "metadata": {},
   "outputs": [],
   "source": [
    "prikazi_slike()"
   ]
  },
  {
   "cell_type": "markdown",
   "metadata": {},
   "source": [
    "Aster downsampling "
   ]
  },
  {
   "cell_type": "code",
   "execution_count": null,
   "metadata": {},
   "outputs": [],
   "source": [
    "benign = df[df['target'] == 0].sample(3000, random_state=42)\n",
    "malignant = df[df['target'] == 1]\n",
    "new_data = pd.concat([benign, malignant]).reset_index(drop=True)"
   ]
  },
  {
   "cell_type": "code",
   "execution_count": null,
   "metadata": {},
   "outputs": [],
   "source": [
    "# Vizualizacija distribucije klasa\n",
    "plt.figure(figsize=(6,4))\n",
    "sns.countplot(x='target', data=new_data, hue='target', palette='pastel', legend=False)\n",
    "plt.title('Distribucija klasa nakon downsampling-a')\n",
    "plt.show()\n"
   ]
  },
  {
   "cell_type": "code",
   "execution_count": null,
   "metadata": {},
   "outputs": [],
   "source": [
    "new_data['target'].value_counts()"
   ]
  },
  {
   "cell_type": "markdown",
   "metadata": {},
   "source": [
    "2. Creating the Dataset class\n"
   ]
  },
  {
   "cell_type": "code",
   "execution_count": null,
   "metadata": {},
   "outputs": [],
   "source": [
    "# Kreiranje klase Data\n",
    "class Data(Sequence):\n",
    "    def __init__(self, image_names, labels, batch_size, image_folder=\"data/\", target_size=(224, 224), aug=None, shuffle=True):\n",
    "        self.image_names = np.array(image_names)\n",
    "        self.labels = np.array(labels)\n",
    "        self.batch_size = batch_size\n",
    "        self.image_folder = image_folder\n",
    "        self.target_size = target_size\n",
    "        self.aug = aug\n",
    "        self.shuffle = shuffle\n",
    "        self.indices = np.arange(len(self.image_names))\n",
    "        self.on_epoch_end()\n",
    "    \n",
    "    def __len__(self):\n",
    "        return int(np.floor(len(self.image_names) / self.batch_size))  # Ceo broj batch-ova\n",
    "    \n",
    "    def __getitem__(self, index):\n",
    "        batch_indices = self.indices[index * self.batch_size: (index + 1) * self.batch_size]\n",
    "        batch_images = [self.load_data(self.image_names[i]) for i in batch_indices]\n",
    "        batch_labels = self.labels[batch_indices]\n",
    "        \n",
    "        batch_images = np.array(batch_images)\n",
    "        batch_labels = np.array(batch_labels)\n",
    "        \n",
    "        # Popravljeno augmentiranje\n",
    "        if self.aug:\n",
    "            batch_images = self.aug.flow(batch_images, batch_size=self.batch_size, shuffle=False)[0]\n",
    "        \n",
    "        return batch_images, batch_labels\n",
    "    \n",
    "    def on_epoch_end(self):\n",
    "        if self.shuffle:\n",
    "            np.random.shuffle(self.indices)\n",
    "    \n",
    "    def load_data(self, image_name):\n",
    "        img_path = os.path.join(self.image_folder, image_name + \".jpg\")\n",
    "        if not os.path.exists(img_path):  # Ako slika ne postoji, vrati crnu sliku\n",
    "            return np.zeros((*self.target_size, 3), dtype=np.float32)\n",
    "\n",
    "        img = image.load_img(img_path, target_size=self.target_size)\n",
    "        img = image.img_to_array(img) / 255.0\n",
    "        return img"
   ]
  },
  {
   "cell_type": "code",
   "execution_count": null,
   "metadata": {},
   "outputs": [],
   "source": [
    "# Definicija augmentacije\n",
    "datagen = ImageDataGenerator(\n",
    "    rotation_range=30,  \n",
    "    width_shift_range=0.2,  \n",
    "    height_shift_range=0.2, \n",
    "    shear_range=0.2,     \n",
    "    zoom_range=0.2,  \n",
    "    horizontal_flip=True,\n",
    "    fill_mode='nearest'\n",
    ")"
   ]
  },
  {
   "cell_type": "code",
   "execution_count": null,
   "metadata": {},
   "outputs": [],
   "source": [
    "# Kreiranje dataset objekta\n",
    "dataset = Data(df['image_name'].values, df['target'].values, batch_size=32, aug=datagen)"
   ]
  },
  {
   "cell_type": "code",
   "execution_count": null,
   "metadata": {},
   "outputs": [],
   "source": [
    "# Prikaz primera slika iz dataset-a\n",
    "for images, labels in dataset:\n",
    "    fig, ax = plt.subplots(4, 8, figsize=(12, 6))\n",
    "    ax = ax.flatten()\n",
    "    \n",
    "    for i in range(len(ax)):\n",
    "        ax[i].imshow(images[i])\n",
    "        ax[i].set_title(f\"{labels[i]}\")\n",
    "        ax[i].axis('off')\n",
    "    break\n",
    "plt.show()"
   ]
  }
 ],
 "metadata": {
  "kernelspec": {
   "display_name": "konvolucija",
   "language": "python",
   "name": "python3"
  },
  "language_info": {
   "codemirror_mode": {
    "name": "ipython",
    "version": 3
   },
   "file_extension": ".py",
   "mimetype": "text/x-python",
   "name": "python",
   "nbconvert_exporter": "python",
   "pygments_lexer": "ipython3",
   "version": "3.9.18"
  }
 },
 "nbformat": 4,
 "nbformat_minor": 2
}
